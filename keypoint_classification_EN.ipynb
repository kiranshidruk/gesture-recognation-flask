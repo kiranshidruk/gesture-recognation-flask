{
  "cells": [
    {
      "cell_type": "code",
      "execution_count": 23,
      "metadata": {
        "id": "igMyGnjE9hEp"
      },
      "outputs": [],
      "source": [
        "import csv\n",
        "\n",
        "import numpy as np\n",
        "import tensorflow as tf\n",
        "from sklearn.model_selection import train_test_split\n",
        "\n",
        "RANDOM_SEED = 42"
      ]
    },
    {
      "cell_type": "markdown",
      "metadata": {
        "id": "t2HDvhIu9hEr"
      },
      "source": [
        "# Specify each path"
      ]
    },
    {
      "cell_type": "code",
      "execution_count": 24,
      "metadata": {
        "id": "9NvZP2Zn9hEy"
      },
      "outputs": [],
      "source": [
        "dataset = 'model/keypoint_classifier/keypoint.csv'\n",
        "model_save_path = 'model/keypoint_classifier/keypoint_classifier.hdf5'\n",
        "tflite_save_path = 'model/keypoint_classifier/keypoint_classifier.tflite'"
      ]
    },
    {
      "cell_type": "markdown",
      "metadata": {
        "id": "s5oMH7x19hEz"
      },
      "source": [
        "# Set number of classes"
      ]
    },
    {
      "cell_type": "code",
      "execution_count": 25,
      "metadata": {
        "id": "du4kodXL9hEz"
      },
      "outputs": [],
      "source": [
        "NUM_CLASSES = 6"
      ]
    },
    {
      "cell_type": "markdown",
      "metadata": {
        "id": "XjnL0uso9hEz"
      },
      "source": [
        "# Dataset reading"
      ]
    },
    {
      "cell_type": "code",
      "execution_count": 26,
      "metadata": {
        "id": "QT5ZqtEz9hE0"
      },
      "outputs": [],
      "source": [
        "X_dataset = np.loadtxt(dataset, delimiter=',', dtype='float32', usecols=list(range(1, (21 * 2) + 1)))"
      ]
    },
    {
      "cell_type": "code",
      "execution_count": 27,
      "metadata": {
        "id": "QmoKFsp49hE0"
      },
      "outputs": [],
      "source": [
        "y_dataset = np.loadtxt(dataset, delimiter=',', dtype='int32', usecols=(0))"
      ]
    },
    {
      "cell_type": "code",
      "execution_count": 28,
      "metadata": {
        "id": "xQU7JTZ_9hE0"
      },
      "outputs": [],
      "source": [
        "X_train, X_test, y_train, y_test = train_test_split(X_dataset, y_dataset, train_size=0.75, random_state=RANDOM_SEED)"
      ]
    },
    {
      "cell_type": "markdown",
      "metadata": {
        "id": "mxK_lETT9hE0"
      },
      "source": [
        "# Model building"
      ]
    },
    {
      "cell_type": "code",
      "execution_count": 29,
      "metadata": {
        "id": "vHBmUf1t9hE1"
      },
      "outputs": [],
      "source": [
        "model = tf.keras.models.Sequential([\n",
        "    tf.keras.layers.Input((21 * 2, )),\n",
        "    tf.keras.layers.Dropout(0.2),\n",
        "    tf.keras.layers.Dense(20, activation='relu'),\n",
        "    tf.keras.layers.Dropout(0.4),\n",
        "    tf.keras.layers.Dense(10, activation='relu'),\n",
        "    tf.keras.layers.Dense(NUM_CLASSES, activation='softmax')\n",
        "])"
      ]
    },
    {
      "cell_type": "code",
      "execution_count": 30,
      "metadata": {
        "colab": {
          "base_uri": "https://localhost:8080/"
        },
        "id": "ypqky9tc9hE1",
        "outputId": "5db082bb-30e3-4110-bf63-a1ee777ecd46"
      },
      "outputs": [
        {
          "name": "stdout",
          "output_type": "stream",
          "text": [
            "Model: \"sequential_1\"\n",
            "_________________________________________________________________\n",
            " Layer (type)                Output Shape              Param #   \n",
            "=================================================================\n",
            " dropout_2 (Dropout)         (None, 42)                0         \n",
            "                                                                 \n",
            " dense_3 (Dense)             (None, 20)                860       \n",
            "                                                                 \n",
            " dropout_3 (Dropout)         (None, 20)                0         \n",
            "                                                                 \n",
            " dense_4 (Dense)             (None, 10)                210       \n",
            "                                                                 \n",
            " dense_5 (Dense)             (None, 6)                 66        \n",
            "                                                                 \n",
            "=================================================================\n",
            "Total params: 1136 (4.44 KB)\n",
            "Trainable params: 1136 (4.44 KB)\n",
            "Non-trainable params: 0 (0.00 Byte)\n",
            "_________________________________________________________________\n"
          ]
        }
      ],
      "source": [
        "model.summary()  # tf.keras.utils.plot_model(model, show_shapes=True)"
      ]
    },
    {
      "cell_type": "code",
      "execution_count": 31,
      "metadata": {
        "id": "MbMjOflQ9hE1"
      },
      "outputs": [],
      "source": [
        "# Model checkpoint callback\n",
        "cp_callback = tf.keras.callbacks.ModelCheckpoint(\n",
        "    model_save_path, verbose=1, save_weights_only=False)\n",
        "# Callback for early stopping\n",
        "es_callback = tf.keras.callbacks.EarlyStopping(patience=20, verbose=1)"
      ]
    },
    {
      "cell_type": "code",
      "execution_count": 32,
      "metadata": {
        "id": "c3Dac0M_9hE2"
      },
      "outputs": [],
      "source": [
        "# Model compilation\n",
        "model.compile(\n",
        "    optimizer='adam',\n",
        "    loss='sparse_categorical_crossentropy',\n",
        "    metrics=['accuracy']\n",
        ")"
      ]
    },
    {
      "cell_type": "markdown",
      "metadata": {
        "id": "7XI0j1Iu9hE2"
      },
      "source": [
        "# Model training"
      ]
    },
    {
      "cell_type": "code",
      "execution_count": 40,
      "metadata": {
        "colab": {
          "base_uri": "https://localhost:8080/"
        },
        "id": "WirBl-JE9hE3",
        "outputId": "71b30ca2-8294-4d9d-8aa2-800d90d399de",
        "scrolled": true
      },
      "outputs": [
        {
          "name": "stdout",
          "output_type": "stream",
          "text": [
            "Epoch 1/1000\n"
          ]
        },
        {
          "name": "stdout",
          "output_type": "stream",
          "text": [
            " 1/30 [>.............................] - ETA: 3s - loss: 0.6096 - accuracy: 0.7734\n",
            "Epoch 1: saving model to model/keypoint_classifier/keypoint_classifier.hdf5\n",
            "30/30 [==============================] - 0s 3ms/step - loss: 0.5824 - accuracy: 0.7919 - val_loss: 0.2942 - val_accuracy: 0.9268\n",
            "Epoch 2/1000\n",
            " 1/30 [>.............................] - ETA: 0s - loss: 0.5247 - accuracy: 0.8047\n",
            "Epoch 2: saving model to model/keypoint_classifier/keypoint_classifier.hdf5\n",
            "30/30 [==============================] - 0s 1ms/step - loss: 0.5862 - accuracy: 0.7877 - val_loss: 0.2930 - val_accuracy: 0.9276\n",
            "Epoch 3/1000\n",
            " 1/30 [>.............................] - ETA: 0s - loss: 0.5016 - accuracy: 0.8359\n",
            "Epoch 3: saving model to model/keypoint_classifier/keypoint_classifier.hdf5\n",
            "30/30 [==============================] - 0s 996us/step - loss: 0.5693 - accuracy: 0.7954 - val_loss: 0.2852 - val_accuracy: 0.9292\n",
            "Epoch 4/1000\n",
            " 1/30 [>.............................] - ETA: 0s - loss: 0.5126 - accuracy: 0.7891\n",
            "Epoch 4: saving model to model/keypoint_classifier/keypoint_classifier.hdf5\n",
            "30/30 [==============================] - 0s 979us/step - loss: 0.5723 - accuracy: 0.7917 - val_loss: 0.2896 - val_accuracy: 0.9236\n",
            "Epoch 5/1000\n",
            " 1/30 [>.............................] - ETA: 0s - loss: 0.5517 - accuracy: 0.7891\n",
            "Epoch 5: saving model to model/keypoint_classifier/keypoint_classifier.hdf5\n",
            "30/30 [==============================] - 0s 976us/step - loss: 0.5738 - accuracy: 0.7890 - val_loss: 0.2911 - val_accuracy: 0.9236\n",
            "Epoch 6/1000\n",
            " 1/30 [>.............................] - ETA: 0s - loss: 0.6192 - accuracy: 0.7578\n",
            "Epoch 6: saving model to model/keypoint_classifier/keypoint_classifier.hdf5\n",
            "30/30 [==============================] - 0s 975us/step - loss: 0.5691 - accuracy: 0.7893 - val_loss: 0.2848 - val_accuracy: 0.9260\n",
            "Epoch 7/1000\n",
            " 1/30 [>.............................] - ETA: 0s - loss: 0.5911 - accuracy: 0.7891\n",
            "Epoch 7: saving model to model/keypoint_classifier/keypoint_classifier.hdf5\n",
            "30/30 [==============================] - 0s 968us/step - loss: 0.5693 - accuracy: 0.8012 - val_loss: 0.2792 - val_accuracy: 0.9284\n",
            "Epoch 8/1000\n",
            " 1/30 [>.............................] - ETA: 0s - loss: 0.6397 - accuracy: 0.7891"
          ]
        },
        {
          "name": "stderr",
          "output_type": "stream",
          "text": [
            "/opt/anaconda3/envs/gestureMedia/lib/python3.8/site-packages/keras/src/engine/training.py:3000: UserWarning: You are saving your model as an HDF5 file via `model.save()`. This file format is considered legacy. We recommend using instead the native Keras format, e.g. `model.save('my_model.keras')`.\n",
            "  saving_api.save_model(\n"
          ]
        },
        {
          "name": "stdout",
          "output_type": "stream",
          "text": [
            "\n",
            "Epoch 8: saving model to model/keypoint_classifier/keypoint_classifier.hdf5\n",
            "30/30 [==============================] - 0s 998us/step - loss: 0.5886 - accuracy: 0.7933 - val_loss: 0.2899 - val_accuracy: 0.9300\n",
            "Epoch 9/1000\n",
            " 1/30 [>.............................] - ETA: 0s - loss: 0.4537 - accuracy: 0.8438\n",
            "Epoch 9: saving model to model/keypoint_classifier/keypoint_classifier.hdf5\n",
            "30/30 [==============================] - 0s 1ms/step - loss: 0.5805 - accuracy: 0.7930 - val_loss: 0.2911 - val_accuracy: 0.9252\n",
            "Epoch 10/1000\n",
            " 1/30 [>.............................] - ETA: 0s - loss: 0.5107 - accuracy: 0.8203\n",
            "Epoch 10: saving model to model/keypoint_classifier/keypoint_classifier.hdf5\n",
            "30/30 [==============================] - 0s 991us/step - loss: 0.5736 - accuracy: 0.7962 - val_loss: 0.2896 - val_accuracy: 0.9268\n",
            "Epoch 11/1000\n",
            " 1/30 [>.............................] - ETA: 0s - loss: 0.6587 - accuracy: 0.7422\n",
            "Epoch 11: saving model to model/keypoint_classifier/keypoint_classifier.hdf5\n",
            "30/30 [==============================] - 0s 985us/step - loss: 0.5823 - accuracy: 0.7983 - val_loss: 0.2891 - val_accuracy: 0.9244\n",
            "Epoch 12/1000\n",
            " 1/30 [>.............................] - ETA: 0s - loss: 0.6137 - accuracy: 0.8203\n",
            "Epoch 12: saving model to model/keypoint_classifier/keypoint_classifier.hdf5\n",
            "30/30 [==============================] - 0s 1ms/step - loss: 0.5620 - accuracy: 0.7901 - val_loss: 0.2925 - val_accuracy: 0.9236\n",
            "Epoch 13/1000\n",
            " 1/30 [>.............................] - ETA: 0s - loss: 0.5341 - accuracy: 0.8203\n",
            "Epoch 13: saving model to model/keypoint_classifier/keypoint_classifier.hdf5\n",
            "30/30 [==============================] - 0s 957us/step - loss: 0.5942 - accuracy: 0.7885 - val_loss: 0.2920 - val_accuracy: 0.9244\n",
            "Epoch 14/1000\n",
            " 1/30 [>.............................] - ETA: 0s - loss: 0.5278 - accuracy: 0.8438\n",
            "Epoch 14: saving model to model/keypoint_classifier/keypoint_classifier.hdf5\n",
            "30/30 [==============================] - 0s 974us/step - loss: 0.5864 - accuracy: 0.7914 - val_loss: 0.2937 - val_accuracy: 0.9228\n",
            "Epoch 15/1000\n",
            " 1/30 [>.............................] - ETA: 0s - loss: 0.5665 - accuracy: 0.8203\n",
            "Epoch 15: saving model to model/keypoint_classifier/keypoint_classifier.hdf5\n",
            "30/30 [==============================] - 0s 984us/step - loss: 0.5973 - accuracy: 0.7826 - val_loss: 0.2956 - val_accuracy: 0.9252\n",
            "Epoch 16/1000\n",
            " 1/30 [>.............................] - ETA: 0s - loss: 0.5169 - accuracy: 0.8281\n",
            "Epoch 16: saving model to model/keypoint_classifier/keypoint_classifier.hdf5\n",
            "30/30 [==============================] - 0s 966us/step - loss: 0.5823 - accuracy: 0.7898 - val_loss: 0.2924 - val_accuracy: 0.9244\n",
            "Epoch 17/1000\n",
            " 1/30 [>.............................] - ETA: 0s - loss: 0.4672 - accuracy: 0.8125\n",
            "Epoch 17: saving model to model/keypoint_classifier/keypoint_classifier.hdf5\n",
            "30/30 [==============================] - 0s 991us/step - loss: 0.5724 - accuracy: 0.7887 - val_loss: 0.2919 - val_accuracy: 0.9236\n",
            "Epoch 18/1000\n",
            " 1/30 [>.............................] - ETA: 0s - loss: 0.5270 - accuracy: 0.8203\n",
            "Epoch 18: saving model to model/keypoint_classifier/keypoint_classifier.hdf5\n",
            "30/30 [==============================] - 0s 2ms/step - loss: 0.5717 - accuracy: 0.7906 - val_loss: 0.2872 - val_accuracy: 0.9228\n",
            "Epoch 19/1000\n",
            " 1/30 [>.............................] - ETA: 0s - loss: 0.5661 - accuracy: 0.7812\n",
            "Epoch 19: saving model to model/keypoint_classifier/keypoint_classifier.hdf5\n",
            "30/30 [==============================] - 0s 963us/step - loss: 0.5748 - accuracy: 0.7832 - val_loss: 0.2907 - val_accuracy: 0.9228\n",
            "Epoch 20/1000\n",
            " 1/30 [>.............................] - ETA: 0s - loss: 0.4857 - accuracy: 0.8047\n",
            "Epoch 20: saving model to model/keypoint_classifier/keypoint_classifier.hdf5\n",
            "30/30 [==============================] - 0s 950us/step - loss: 0.5796 - accuracy: 0.7898 - val_loss: 0.2806 - val_accuracy: 0.9268\n",
            "Epoch 21/1000\n",
            " 1/30 [>.............................] - ETA: 0s - loss: 0.6404 - accuracy: 0.8047\n",
            "Epoch 21: saving model to model/keypoint_classifier/keypoint_classifier.hdf5\n",
            "30/30 [==============================] - 0s 960us/step - loss: 0.5858 - accuracy: 0.7805 - val_loss: 0.2927 - val_accuracy: 0.9220\n",
            "Epoch 22/1000\n",
            " 1/30 [>.............................] - ETA: 0s - loss: 0.5089 - accuracy: 0.8281\n",
            "Epoch 22: saving model to model/keypoint_classifier/keypoint_classifier.hdf5\n",
            "30/30 [==============================] - 0s 964us/step - loss: 0.5915 - accuracy: 0.7858 - val_loss: 0.2944 - val_accuracy: 0.9300\n",
            "Epoch 23/1000\n",
            " 1/30 [>.............................] - ETA: 0s - loss: 0.5989 - accuracy: 0.7891\n",
            "Epoch 23: saving model to model/keypoint_classifier/keypoint_classifier.hdf5\n",
            "30/30 [==============================] - 0s 1ms/step - loss: 0.5835 - accuracy: 0.7919 - val_loss: 0.2937 - val_accuracy: 0.9316\n",
            "Epoch 24/1000\n",
            " 1/30 [>.............................] - ETA: 0s - loss: 0.5351 - accuracy: 0.7969\n",
            "Epoch 24: saving model to model/keypoint_classifier/keypoint_classifier.hdf5\n",
            "30/30 [==============================] - 0s 967us/step - loss: 0.5687 - accuracy: 0.7938 - val_loss: 0.2864 - val_accuracy: 0.9292\n",
            "Epoch 25/1000\n",
            " 1/30 [>.............................] - ETA: 0s - loss: 0.5098 - accuracy: 0.8438\n",
            "Epoch 25: saving model to model/keypoint_classifier/keypoint_classifier.hdf5\n",
            "30/30 [==============================] - 0s 997us/step - loss: 0.5539 - accuracy: 0.7956 - val_loss: 0.2891 - val_accuracy: 0.9268\n",
            "Epoch 26/1000\n",
            " 1/30 [>.............................] - ETA: 0s - loss: 0.4075 - accuracy: 0.8516\n",
            "Epoch 26: saving model to model/keypoint_classifier/keypoint_classifier.hdf5\n",
            "30/30 [==============================] - 0s 1ms/step - loss: 0.5861 - accuracy: 0.7877 - val_loss: 0.2850 - val_accuracy: 0.9340\n",
            "Epoch 27/1000\n",
            " 1/30 [>.............................] - ETA: 0s - loss: 0.5844 - accuracy: 0.7734\n",
            "Epoch 27: saving model to model/keypoint_classifier/keypoint_classifier.hdf5\n",
            "30/30 [==============================] - 0s 1ms/step - loss: 0.5520 - accuracy: 0.7988 - val_loss: 0.2817 - val_accuracy: 0.9332\n",
            "Epoch 27: early stopping\n"
          ]
        },
        {
          "data": {
            "text/plain": [
              "<keras.src.callbacks.History at 0x319478ca0>"
            ]
          },
          "execution_count": 40,
          "metadata": {},
          "output_type": "execute_result"
        }
      ],
      "source": [
        "model.fit(\n",
        "    X_train,\n",
        "    y_train,\n",
        "    epochs=1000,\n",
        "    batch_size=128,\n",
        "    validation_data=(X_test, y_test),\n",
        "    callbacks=[cp_callback, es_callback]\n",
        ")"
      ]
    },
    {
      "cell_type": "code",
      "execution_count": 41,
      "metadata": {
        "colab": {
          "base_uri": "https://localhost:8080/"
        },
        "id": "pxvb2Y299hE3",
        "outputId": "59eb3185-2e37-4b9e-bc9d-ab1b8ac29b7f"
      },
      "outputs": [
        {
          "name": "stdout",
          "output_type": "stream",
          "text": [
            "10/10 [==============================] - 0s 501us/step - loss: 0.2817 - accuracy: 0.9332\n"
          ]
        }
      ],
      "source": [
        "# Model evaluation\n",
        "val_loss, val_acc = model.evaluate(X_test, y_test, batch_size=128)"
      ]
    },
    {
      "cell_type": "code",
      "execution_count": 42,
      "metadata": {
        "id": "RBkmDeUW9hE4"
      },
      "outputs": [],
      "source": [
        "# Loading the saved model\n",
        "model = tf.keras.models.load_model(model_save_path)"
      ]
    },
    {
      "cell_type": "code",
      "execution_count": 43,
      "metadata": {
        "colab": {
          "base_uri": "https://localhost:8080/"
        },
        "id": "tFz9Tb0I9hE4",
        "outputId": "1c3b3528-54ae-4ee2-ab04-77429211cbef"
      },
      "outputs": [
        {
          "name": "stdout",
          "output_type": "stream",
          "text": [
            "1/1 [==============================] - 0s 29ms/step\n",
            "[9.7777551e-01 1.8352918e-02 1.4730045e-04 2.6079008e-04 2.5017157e-06\n",
            " 3.4609637e-03]\n",
            "0\n"
          ]
        }
      ],
      "source": [
        "# Inference test\n",
        "predict_result = model.predict(np.array([X_test[0]]))\n",
        "print(np.squeeze(predict_result))\n",
        "print(np.argmax(np.squeeze(predict_result)))"
      ]
    },
    {
      "cell_type": "markdown",
      "metadata": {
        "id": "S3U4yNWx9hE4"
      },
      "source": [
        "# Confusion matrix"
      ]
    },
    {
      "cell_type": "code",
      "execution_count": 44,
      "metadata": {
        "colab": {
          "base_uri": "https://localhost:8080/",
          "height": 582
        },
        "id": "AP1V6SCk9hE5",
        "outputId": "08e41a80-7a4a-4619-8125-ecc371368d19"
      },
      "outputs": [
        {
          "name": "stdout",
          "output_type": "stream",
          "text": [
            "40/40 [==============================] - 0s 319us/step\n"
          ]
        },
        {
          "data": {
            "image/png": "[encoded data removed]",
            "text/plain": [
              "<Figure size 700x600 with 2 Axes>"
            ]
          },
          "metadata": {},
          "output_type": "display_data"
        },
        {
          "name": "stdout",
          "output_type": "stream",
          "text": [
            "Classification Report\n",
            "              precision    recall  f1-score   support\n",
            "\n",
            "           0       0.96      0.99      0.98       392\n",
            "           1       0.92      0.90      0.91       383\n",
            "           2       0.90      0.97      0.94       340\n",
            "           3       0.99      1.00      0.99        79\n",
            "           4       1.00      0.81      0.89        36\n",
            "           5       0.00      0.00      0.00        27\n",
            "\n",
            "    accuracy                           0.93      1257\n",
            "   macro avg       0.79      0.78      0.78      1257\n",
            "weighted avg       0.91      0.93      0.92      1257\n",
            "\n"
          ]
        },
        {
          "name": "stderr",
          "output_type": "stream",
          "text": [
            "/opt/anaconda3/envs/gestureMedia/lib/python3.8/site-packages/sklearn/metrics/_classification.py:1471: UndefinedMetricWarning: Precision and F-score are ill-defined and being set to 0.0 in labels with no predicted samples. Use `zero_division` parameter to control this behavior.\n",
            "  _warn_prf(average, modifier, msg_start, len(result))\n",
            "/opt/anaconda3/envs/gestureMedia/lib/python3.8/site-packages/sklearn/metrics/_classification.py:1471: UndefinedMetricWarning: Precision and F-score are ill-defined and being set to 0.0 in labels with no predicted samples. Use `zero_division` parameter to control this behavior.\n",
            "  _warn_prf(average, modifier, msg_start, len(result))\n",
            "/opt/anaconda3/envs/gestureMedia/lib/python3.8/site-packages/sklearn/metrics/_classification.py:1471: UndefinedMetricWarning: Precision and F-score are ill-defined and being set to 0.0 in labels with no predicted samples. Use `zero_division` parameter to control this behavior.\n",
            "  _warn_prf(average, modifier, msg_start, len(result))\n"
          ]
        }
      ],
      "source": [
        "import pandas as pd\n",
        "import seaborn as sns\n",
        "import matplotlib.pyplot as plt\n",
        "from sklearn.metrics import confusion_matrix, classification_report\n",
        "\n",
        "def print_confusion_matrix(y_true, y_pred, report=True):\n",
        "    labels = sorted(list(set(y_true)))\n",
        "    cmx_data = confusion_matrix(y_true, y_pred, labels=labels)\n",
        "    \n",
        "    df_cmx = pd.DataFrame(cmx_data, index=labels, columns=labels)\n",
        " \n",
        "    fig, ax = plt.subplots(figsize=(7, 6))\n",
        "    sns.heatmap(df_cmx, annot=True, fmt='g' ,square=False)\n",
        "    ax.set_ylim(len(set(y_true)), 0)\n",
        "    plt.show()\n",
        "    \n",
        "    if report:\n",
        "        print('Classification Report')\n",
        "        print(classification_report(y_test, y_pred))\n",
        "\n",
        "Y_pred = model.predict(X_test)\n",
        "y_pred = np.argmax(Y_pred, axis=1)\n",
        "\n",
        "print_confusion_matrix(y_test, y_pred)"
      ]
    },
    {
      "cell_type": "markdown",
      "metadata": {
        "id": "FNP6aqzc9hE5"
      },
      "source": [
        "# Convert to model for Tensorflow-Lite"
      ]
    },
    {
      "cell_type": "code",
      "execution_count": 45,
      "metadata": {
        "id": "ODjnYyld9hE6"
      },
      "outputs": [
        {
          "name": "stderr",
          "output_type": "stream",
          "text": [
            "/opt/anaconda3/envs/gestureMedia/lib/python3.8/site-packages/keras/src/engine/training.py:3000: UserWarning: You are saving your model as an HDF5 file via `model.save()`. This file format is considered legacy. We recommend using instead the native Keras format, e.g. `model.save('my_model.keras')`.\n",
            "  saving_api.save_model(\n"
          ]
        }
      ],
      "source": [
        "# Save as a model dedicated to inference\n",
        "model.save(model_save_path, include_optimizer=False)"
      ]
    },
    {
      "cell_type": "code",
      "execution_count": 46,
      "metadata": {
        "colab": {
          "base_uri": "https://localhost:8080/"
        },
        "id": "zRfuK8Y59hE6",
        "outputId": "a4ca585c-b5d5-4244-8291-8674063209bb"
      },
      "outputs": [
        {
          "name": "stdout",
          "output_type": "stream",
          "text": [
            "INFO:tensorflow:Assets written to: /var/folders/bl/wwtw75nn47120mwmkrc271m00000gn/T/tmp9h1rmbbw/assets\n"
          ]
        },
        {
          "name": "stderr",
          "output_type": "stream",
          "text": [
            "INFO:tensorflow:Assets written to: /var/folders/bl/wwtw75nn47120mwmkrc271m00000gn/T/tmp9h1rmbbw/assets\n",
            "2024-08-30 15:13:02.436565: W tensorflow/compiler/mlir/lite/python/tf_tfl_flatbuffer_helpers.cc:364] Ignored output_format.\n",
            "2024-08-30 15:13:02.436576: W tensorflow/compiler/mlir/lite/python/tf_tfl_flatbuffer_helpers.cc:367] Ignored drop_control_dependency.\n"
          ]
        },
        {
          "data": {
            "text/plain": [
              "6660"
            ]
          },
          "execution_count": 46,
          "metadata": {},
          "output_type": "execute_result"
        }
      ],
      "source": [
        "# Transform model (quantization)\n",
        "\n",
        "converter = tf.lite.TFLiteConverter.from_keras_model(model)\n",
        "converter.optimizations = [tf.lite.Optimize.DEFAULT]\n",
        "tflite_quantized_model = converter.convert()\n",
        "\n",
        "open(tflite_save_path, 'wb').write(tflite_quantized_model)"
      ]
    },
    {
      "cell_type": "markdown",
      "metadata": {
        "id": "CHBPBXdx9hE6"
      },
      "source": [
        "# Inference test"
      ]
    },
    {
      "cell_type": "code",
      "execution_count": 47,
      "metadata": {
        "id": "mGAzLocO9hE7"
      },
      "outputs": [],
      "source": [
        "interpreter = tf.lite.Interpreter(model_path=tflite_save_path)\n",
        "interpreter.allocate_tensors()"
      ]
    },
    {
      "cell_type": "code",
      "execution_count": 48,
      "metadata": {
        "id": "oQuDK8YS9hE7"
      },
      "outputs": [],
      "source": [
        "# Get I / O tensor\n",
        "input_details = interpreter.get_input_details()\n",
        "output_details = interpreter.get_output_details()"
      ]
    },
    {
      "cell_type": "code",
      "execution_count": 49,
      "metadata": {
        "id": "2_ixAf_l9hE7"
      },
      "outputs": [],
      "source": [
        "interpreter.set_tensor(input_details[0]['index'], np.array([X_test[0]]))"
      ]
    },
    {
      "cell_type": "code",
      "execution_count": 50,
      "metadata": {
        "colab": {
          "base_uri": "https://localhost:8080/"
        },
        "id": "s4FoAnuc9hE7",
        "outputId": "91f18257-8d8b-4ef3-c558-e9b5f94fabbf",
        "scrolled": true
      },
      "outputs": [
        {
          "name": "stdout",
          "output_type": "stream",
          "text": [
            "CPU times: user 30 µs, sys: 6 µs, total: 36 µs\n",
            "Wall time: 37.7 µs\n"
          ]
        }
      ],
      "source": [
        "%%time\n",
        "# Inference implementation\n",
        "interpreter.invoke()\n",
        "tflite_results = interpreter.get_tensor(output_details[0]['index'])"
      ]
    },
    {
      "cell_type": "code",
      "execution_count": 51,
      "metadata": {
        "colab": {
          "base_uri": "https://localhost:8080/"
        },
        "id": "vONjp19J9hE8",
        "outputId": "77205e24-fd00-42c4-f7b6-e06e527c2cba"
      },
      "outputs": [
        {
          "name": "stdout",
          "output_type": "stream",
          "text": [
            "[9.7777551e-01 1.8352937e-02 1.4730060e-04 2.6078985e-04 2.5017207e-06\n",
            " 3.4609670e-03]\n",
            "0\n"
          ]
        }
      ],
      "source": [
        "print(np.squeeze(tflite_results))\n",
        "print(np.argmax(np.squeeze(tflite_results)))"
      ]
    }
  ],
  "metadata": {
    "accelerator": "GPU",
    "colab": {
      "collapsed_sections": [],
      "name": "keypoint_classification_EN.ipynb",
      "provenance": [],
      "toc_visible": true
    },
    "kernelspec": {
      "display_name": "Python 3",
      "language": "python",
      "name": "python3"
    },
    "language_info": {
      "codemirror_mode": {
        "name": "ipython",
        "version": 3
      },
      "file_extension": ".py",
      "mimetype": "text/x-python",
      "name": "python",
      "nbconvert_exporter": "python",
      "pygments_lexer": "ipython3",
      "version": "3.8.18"
    }
  },
  "nbformat": 4,
  "nbformat_minor": 0
}
